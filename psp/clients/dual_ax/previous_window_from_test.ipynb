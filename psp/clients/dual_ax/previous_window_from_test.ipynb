{
 "cells": [
  {
   "cell_type": "code",
   "execution_count": null,
   "metadata": {},
   "outputs": [],
   "source": [
    "import pandas as pd"
   ]
  },
  {
   "cell_type": "code",
   "execution_count": null,
   "metadata": {},
   "outputs": [],
   "source": [
    "df = pd.read_csv(\"/home/zak/pv-site-prediction/exp_results/006_02_dual_ax_diffuse_hour_2k_15min_2/test_errors.csv.gz\")\n",
    "df = df[df[\"horizon\"] == 0]\n",
    "df[\"y_shifted\"] = df[\"y\"].shift(1)\n",
    "df[\"pred\"] = df[\"y_shifted\"]\n",
    "df = df.drop(\"y_shifted\", axis=1)\n",
    "df\n"
   ]
  },
  {
   "cell_type": "code",
   "execution_count": null,
   "metadata": {},
   "outputs": [],
   "source": [
    "df.to_csv(\"/home/zak/pv-site-prediction/exp_results/006_02_01_dual_ax_diffuse_hour_2k_15min_2_PREV/test_errors.csv.gz\")"
   ]
  }
 ],
 "metadata": {
  "kernelspec": {
   "display_name": "pv-site-prediction-vzQW2Xvb-py3.10",
   "language": "python",
   "name": "python3"
  },
  "language_info": {
   "codemirror_mode": {
    "name": "ipython",
    "version": 3
   },
   "file_extension": ".py",
   "mimetype": "text/x-python",
   "name": "python",
   "nbconvert_exporter": "python",
   "pygments_lexer": "ipython3",
   "version": "3.10.12"
  }
 },
 "nbformat": 4,
 "nbformat_minor": 2
}
