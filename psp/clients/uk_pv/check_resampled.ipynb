{
 "cells": [
  {
   "cell_type": "code",
   "execution_count": null,
   "metadata": {},
   "outputs": [],
   "source": [
    "import xarray as xr\n",
    "import plotly.graph_objects as go\n",
    "import pandas as pd"
   ]
  },
  {
   "cell_type": "code",
   "execution_count": null,
   "metadata": {},
   "outputs": [],
   "source": [
    "uk_pv_resampled = \"/mnt/storage_b/data/ocf/solar_pv_nowcasting/clients/uk_pv/pv_site_testset/uk_pv_test_sites_30min.nc\"\n",
    "uk_pv = (\n",
    "    \"/mnt/storage_b/data/ocf/solar_pv_nowcasting/clients/uk_pv/pv_site_testset/uk_pv_test_sites.nc\"\n",
    ")\n",
    "uk_pv_resampled_centered = \"/mnt/storage_b/data/ocf/solar_pv_nowcasting/clients/uk_pv/pv_site_testset/uk_pv_test_sites_30min_center.nc\"\n",
    "\n",
    "\n",
    "ds_uk_pv_resampled = xr.open_dataset(uk_pv_resampled)\n",
    "ds_uk_pv = xr.open_dataset(uk_pv)\n",
    "ds_uk_pv_resampled_centered = xr.open_dataset(uk_pv_resampled_centered)"
   ]
  },
  {
   "cell_type": "code",
   "execution_count": null,
   "metadata": {},
   "outputs": [],
   "source": [
    "ds_uk_pv_resampled_centered"
   ]
  },
  {
   "cell_type": "code",
   "execution_count": null,
   "metadata": {},
   "outputs": [],
   "source": [
    "def plot_generation_data(ds_original, ds_resampled, ds_resampled_2, ss_id, start_time, days):\n",
    "    # Convert start_time to datetime\n",
    "    start_time = pd.to_datetime(start_time)\n",
    "    end_time = start_time + pd.Timedelta(days=days)\n",
    "\n",
    "    # Select the data for the given ss_id and time range\n",
    "    ds_original_ss_id = ds_original.sel(ss_id=ss_id, timestamp=slice(start_time, end_time))\n",
    "    ds_resampled_ss_id = ds_resampled.sel(ss_id=ss_id, timestamp=slice(start_time, end_time))\n",
    "    ds_resampled_2_ss_id = ds_resampled_2.sel(ss_id=ss_id, timestamp=slice(start_time, end_time))\n",
    "\n",
    "    # Create the plot\n",
    "    fig = go.Figure()\n",
    "\n",
    "    fig.add_trace(\n",
    "        go.Scatter(\n",
    "            x=ds_original_ss_id[\"timestamp\"].values,\n",
    "            y=ds_original_ss_id[\"generation_wh\"].values,\n",
    "            mode=\"lines\",\n",
    "            name=\"Original\",\n",
    "        )\n",
    "    )\n",
    "\n",
    "    fig.add_trace(\n",
    "        go.Scatter(\n",
    "            x=ds_resampled_ss_id[\"timestamp\"].values,\n",
    "            y=ds_resampled_ss_id[\"generation_wh\"].values,\n",
    "            mode=\"lines\",\n",
    "            name=\"Resampled\",\n",
    "        )\n",
    "    )\n",
    "\n",
    "    fig.add_trace(\n",
    "        go.Scatter(\n",
    "            x=ds_resampled_2_ss_id[\"timestamp\"].values,\n",
    "            y=ds_resampled_2_ss_id[\"generation_wh\"].values,\n",
    "            mode=\"lines\",\n",
    "            name=\"Resampled_2\",\n",
    "        )\n",
    "    )\n",
    "\n",
    "    fig.update_layout(\n",
    "        title=\"Generation Data for ss_id {}\".format(ss_id),\n",
    "        xaxis_title=\"Timestamp\",\n",
    "        yaxis_title=\"Generation (Wh)\",\n",
    "        legend_title=\"Data\",\n",
    "    )\n",
    "\n",
    "    fig.show()"
   ]
  },
  {
   "cell_type": "code",
   "execution_count": null,
   "metadata": {},
   "outputs": [],
   "source": [
    "plot_generation_data(\n",
    "    ds_uk_pv, ds_uk_pv_resampled, ds_uk_pv_resampled_centered, 9531, \"2021-09-01\", 5\n",
    ")"
   ]
  }
 ],
 "metadata": {
  "kernelspec": {
   "display_name": "psp-vzQW2Xvb-py3.10",
   "language": "python",
   "name": "python3"
  },
  "language_info": {
   "codemirror_mode": {
    "name": "ipython",
    "version": 3
   },
   "file_extension": ".py",
   "mimetype": "text/x-python",
   "name": "python",
   "nbconvert_exporter": "python",
   "pygments_lexer": "ipython3",
   "version": "3.10.10"
  }
 },
 "nbformat": 4,
 "nbformat_minor": 2
}
