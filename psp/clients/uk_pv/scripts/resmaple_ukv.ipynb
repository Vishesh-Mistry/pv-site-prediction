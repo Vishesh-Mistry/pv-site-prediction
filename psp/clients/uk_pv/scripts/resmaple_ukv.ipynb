{
 "cells": [
  {
   "cell_type": "code",
   "execution_count": null,
   "metadata": {},
   "outputs": [],
   "source": [
    "import xarray as xr\n",
    "import pandas as pd"
   ]
  },
  {
   "cell_type": "code",
   "execution_count": null,
   "metadata": {},
   "outputs": [],
   "source": [
    "PV_DATA_PATH = \"/mnt/leonardo/storage_b/data/ocf/solar_pv_nowcasting/clients/uk_pv/5min_v3.nc\"\n",
    "\n",
    "ds = xr.open_dataset(PV_DATA_PATH)"
   ]
  },
  {
   "cell_type": "code",
   "execution_count": null,
   "metadata": {},
   "outputs": [],
   "source": [
    "ds"
   ]
  },
  {
   "cell_type": "code",
   "execution_count": null,
   "metadata": {},
   "outputs": [],
   "source": [
    "# Shift the 'timestamp' coordinate by 2.5 minutes\n",
    "# First, convert 2.5 minutes into the appropriate pandas Timedelta\n",
    "time_shift = pd.Timedelta(minutes=2.5)\n",
    "\n",
    "# Then, apply the shift to the 'timestamp' coordinate\n",
    "ds['timestamp'] = ds['timestamp'] - time_shift"
   ]
  },
  {
   "cell_type": "code",
   "execution_count": null,
   "metadata": {},
   "outputs": [],
   "source": [
    "ds_t15 = ds.resample(timestamp='15min').mean()"
   ]
  },
  {
   "cell_type": "code",
   "execution_count": null,
   "metadata": {},
   "outputs": [],
   "source": [
    "ds_t15"
   ]
  },
  {
   "cell_type": "code",
   "execution_count": null,
   "metadata": {},
   "outputs": [],
   "source": [
    "next_time_shift = pd.Timedelta(minutes=7.5)\n",
    "# Then, apply the shift to the 'timestamp' coordinate\n",
    "ds_t15['timestamp'] = ds_t15['timestamp'] + next_time_shift"
   ]
  },
  {
   "cell_type": "code",
   "execution_count": null,
   "metadata": {},
   "outputs": [],
   "source": [
    "ds_t15"
   ]
  },
  {
   "cell_type": "code",
   "execution_count": null,
   "metadata": {},
   "outputs": [],
   "source": [
    "ds_t15.to_netcdf(\"/mnt/leonardo/storage_b/data/ocf/solar_pv_nowcasting/clients/uk_pv/15min_mid_v3.nc\")"
   ]
  }
 ],
 "metadata": {
  "kernelspec": {
   "display_name": "clean_dual_ax",
   "language": "python",
   "name": "python3"
  },
  "language_info": {
   "codemirror_mode": {
    "name": "ipython",
    "version": 3
   },
   "file_extension": ".py",
   "mimetype": "text/x-python",
   "name": "python",
   "nbconvert_exporter": "python",
   "pygments_lexer": "ipython3",
   "version": "3.10.13"
  }
 },
 "nbformat": 4,
 "nbformat_minor": 2
}
