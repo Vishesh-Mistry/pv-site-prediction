{
 "cells": [
  {
   "cell_type": "code",
   "execution_count": null,
   "metadata": {},
   "outputs": [],
   "source": [
    "import plotly.graph_objects as go\n",
    "import pandas as pd\n",
    "\n",
    "# test_errors_1 = pd.read_csv(\"/home/zak/pv-site-prediction/exp_results/001_05_dual_ax_tracker_hour_4ks_seq3_setmin15/test_errors.csv.gz\")\n",
    "# test_errors_1 = test_errors_1[test_errors_1['horizon'] == 0]\n",
    "\n",
    "test_errors_2 = pd.read_csv(\"/home/zak/pv-site-prediction/exp_results/002_02_01_dual_ax_tracker_hour_prev_wind/test_errors.csv.gz\")\n",
    "test_errors_3 = pd.read_csv(\"/home/zak/pv-site-prediction/exp_results/002_02_dual_ax_tracker_hour_4k/test_errors.csv.gz\")\n",
    "test_errors_3 = test_errors_3[test_errors_3['horizon'] == 0]\n",
    "test_errors_4 = pd.read_csv(\"/home/zak/pv-site-prediction/exp_results/002_04_dual_ax_tracker_hour_2k_kw/test_errors.csv.gz\")\n",
    "test_errors_4 = test_errors_4[test_errors_4['horizon'] == 0]\n",
    "\n",
    "\n",
    "df_15minpowerwindow = pd.read_csv(\"/home/zak/pv-site-prediction/exp_results/004_01_dual_ax_tracker_hour_15minPowerWindow_2k/test_errors.csv.gz\")\n",
    "df_15minpowerwindow = df_15minpowerwindow[df_15minpowerwindow['horizon'] == 0]\n",
    "\n",
    "df_15minpowerwindow_mid = pd.read_csv(\"/home/zak/pv-site-prediction/exp_results/004_02_dual_ax_tracker_hour_15minPowerWindow_2k_mid/test_errors.csv.gz\")\n",
    "df_15minpowerwindow_mid = df_15minpowerwindow_mid[df_15minpowerwindow_mid['horizon'] == 0]\n",
    "\n",
    "df_5minpowerwindow_mid = pd.read_csv(\"/home/zak/pv-site-prediction/exp_results/004_03_dual_ax_tracker_hour_1minPowerWindow_2k_mid/test_errors.csv.gz\")\n",
    "df_5minpowerwindow_mid = df_5minpowerwindow_mid[df_5minpowerwindow_mid['horizon'] == 0]\n",
    "\n",
    "\n",
    "\n",
    "fig = go.Figure()\n",
    "\n",
    "# fig.add_trace(go.Scatter(x=test_errors_1['ts'], y=test_errors_1['pred'], name='test_errors_1'))\n",
    "# fig.add_trace(go.Scatter(x=test_errors_2['ts'], y=test_errors_2['pred'], name='test_errors_2'))\n",
    "fig.add_trace(go.Scatter(x=test_errors_2['ts'], y=(test_errors_2['pred']/1000), name='Previous 15 minutes'))\n",
    "# fig.add_trace(go.Scatter(x=test_errors_3['ts'], y=(test_errors_3['pred']/1000), name='test_errors_3'))\n",
    "fig.add_trace(go.Scatter(x=test_errors_3['ts'], y=(test_errors_3['y']/1000), name='Truth'))\n",
    "# fig.add_trace(go.Scatter(x=test_errors_4['ts'], y=test_errors_4['pred'], name='test_errors_4'))\n",
    "# fig.add_trace(go.Scatter(x=df_15minpowerwindow['ts'], y=df_15minpowerwindow['pred'], name='15minpowerwindow'))\n",
    "fig.add_trace(go.Scatter(x=df_15minpowerwindow_mid['ts'], y=df_15minpowerwindow_mid['pred'], name='ocf_fc'))\n",
    "# fig.add_trace(go.Scatter(x=df_5minpowerwindow_mid['ts'], y=df_5minpowerwindow_mid['pred'], name='5minpowerwindow_mid'))\n",
    "\n",
    "\n",
    "\n",
    "fig.update_layout(title='Comparison of pred values',\n",
    "                  xaxis_title='Time',\n",
    "                  yaxis_title='pred')\n",
    "\n",
    "fig.show()\n"
   ]
  },
  {
   "cell_type": "code",
   "execution_count": null,
   "metadata": {},
   "outputs": [],
   "source": [
    "test_errors_2"
   ]
  },
  {
   "cell_type": "code",
   "execution_count": null,
   "metadata": {},
   "outputs": [],
   "source": [
    "import plotly.graph_objects as go\n",
    "import pandas as pd\n",
    "\n",
    "\n",
    "\n",
    "diffuse_prev = pd.read_csv(\"/home/zak/pv-site-prediction/exp_results/006_02_01_dual_ax_diffuse_hour_2k_15min_2_PREV/test_errors.csv.gz\")\n",
    "diffuse = pd.read_csv(\"/home/zak/pv-site-prediction/exp_results/006_02_dual_ax_diffuse_hour_2k_15min_2/test_errors.csv.gz\")\n",
    "diffuse = diffuse[diffuse['horizon'] == 0]\n",
    "test_errors_4 = pd.read_csv(\"/home/zak/pv-site-prediction/exp_results/002_04_dual_ax_tracker_hour_2k_kw/test_errors.csv.gz\")\n",
    "test_errors_4 = test_errors_4[test_errors_4['horizon'] == 0]\n",
    "\n",
    "\n",
    "fig = go.Figure()\n",
    "\n",
    "fig.add_trace(go.Scatter(x=diffuse_prev['ts'], y=(diffuse_prev['pred']), name='Previous 15 minutes'))\n",
    "fig.add_trace(go.Scatter(x=diffuse['ts'], y=(diffuse['pred']), name='ocf_fc'))\n",
    "fig.add_trace(go.Scatter(x=diffuse['ts'], y=(diffuse['y']), name='Truth'))\n",
    "\n",
    "\n",
    "fig.update_layout(title='Comparison of pred values',\n",
    "                  xaxis_title='Time',\n",
    "                  yaxis_title='pred')\n",
    "\n",
    "fig.show()\n"
   ]
  },
  {
   "cell_type": "code",
   "execution_count": null,
   "metadata": {},
   "outputs": [],
   "source": []
  }
 ],
 "metadata": {
  "kernelspec": {
   "display_name": "Python 3",
   "language": "python",
   "name": "python3"
  },
  "language_info": {
   "codemirror_mode": {
    "name": "ipython",
    "version": 3
   },
   "file_extension": ".py",
   "mimetype": "text/x-python",
   "name": "python",
   "nbconvert_exporter": "python",
   "pygments_lexer": "ipython3",
   "version": "3.10.13"
  }
 },
 "nbformat": 4,
 "nbformat_minor": 2
}
